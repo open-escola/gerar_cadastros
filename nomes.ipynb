{
 "cells": [
  {
   "cell_type": "markdown",
   "id": "07e17436-c0fa-4262-9f45-9ab500cd2af8",
   "metadata": {},
   "source": [
    "<br>\n",
    "\n",
    "# Nomes\n",
    "\n",
    "https://servicodados.ibge.gov.br/api/docs/nomes?versao=2\n",
    "\n",
    "https://fmeireles.com/blog/rstats/genderbr-predizer-sexo/"
   ]
  },
  {
   "cell_type": "code",
   "execution_count": null,
   "id": "ec3b0519-921d-4ff8-ba71-89c0b96100d9",
   "metadata": {},
   "outputs": [],
   "source": []
  }
 ],
 "metadata": {
  "kernelspec": {
   "display_name": "Python [conda env:pablocarreira-py38] *",
   "language": "python",
   "name": "conda-env-pablocarreira-py38-py"
  },
  "language_info": {
   "codemirror_mode": {
    "name": "ipython",
    "version": 3
   },
   "file_extension": ".py",
   "mimetype": "text/x-python",
   "name": "python",
   "nbconvert_exporter": "python",
   "pygments_lexer": "ipython3",
   "version": "3.8.11"
  }
 },
 "nbformat": 4,
 "nbformat_minor": 5
}
