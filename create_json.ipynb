{
 "cells": [
  {
   "cell_type": "markdown",
   "metadata": {},
   "source": [
    "<br>\n",
    "\n",
    "# Introdução"
   ]
  },
  {
   "cell_type": "code",
   "execution_count": null,
   "metadata": {},
   "outputs": [],
   "source": [
    "#!pip install gerador-endereco"
   ]
  },
  {
   "cell_type": "code",
   "execution_count": null,
   "metadata": {},
   "outputs": [],
   "source": [
    "import os\n",
    "import time\n",
    "import json\n",
    "import random\n",
    "import pandas as pd\n",
    "import basedosdados as bd\n",
    "from classify_name import classify_name"
   ]
  },
  {
   "cell_type": "markdown",
   "metadata": {
    "pycharm": {
     "name": "#%% md\n"
    }
   },
   "source": [
    "<br>\n",
    "\n",
    "## Lista de Nomes"
   ]
  },
  {
   "cell_type": "code",
   "execution_count": null,
   "metadata": {
    "pycharm": {
     "name": "#%%\n"
    }
   },
   "outputs": [],
   "source": [
    "# Nomes\n",
    "df = bd.read_sql(\n",
    "    \"\"\"\n",
    "    SELECT nome FROM `basedosdados.br_cgu_servidores_executivo_federal.servidores_civis_cadastro` LIMIT 100000\n",
    "    \"\"\",\n",
    "    billing_project_id='inbound-source-328017',\n",
    ")\n",
    "display(df.head(5))\n",
    "\n",
    "# Registros Únicos\n",
    "list_nomes = list(set(list(df['nome'])))\n",
    "print(list_nomes[0:5])"
   ]
  },
  {
   "cell_type": "markdown",
   "metadata": {
    "pycharm": {
     "name": "#%% md\n"
    }
   },
   "source": [
    "<br>\n",
    "\n",
    "## Lista de Endereços"
   ]
  },
  {
   "cell_type": "code",
   "execution_count": null,
   "metadata": {
    "pycharm": {
     "name": "#%%\n"
    }
   },
   "outputs": [],
   "source": [
    "from gerador_endereco import *\n",
    "\n",
    "listas = get_list_ceps_bairros(estado='sp', municipio='piracicaba')\n",
    "end = get_random_complete_address(random.choice(listas[0]))"
   ]
  },
  {
   "cell_type": "markdown",
   "metadata": {},
   "source": [
    "<br>\n",
    "\n",
    "## Tabelas"
   ]
  },
  {
   "cell_type": "code",
   "execution_count": null,
   "metadata": {
    "pycharm": {
     "name": "#%%\n"
    }
   },
   "outputs": [],
   "source": [
    "i = 1\n",
    "data = []\n",
    "while i <= 100:\n",
    "    small_data = {\n",
    "        'name': random.choice(list_nomes),\n",
    "        'address': get_random_complete_address(random.choice(listas[0]))\n",
    "    }\n",
    "    data.append(small_data)\n",
    "    time.sleep(2)\n",
    "    i += 1"
   ]
  },
  {
   "cell_type": "code",
   "execution_count": null,
   "metadata": {
    "pycharm": {
     "name": "#%%\n"
    }
   },
   "outputs": [],
   "source": [
    "# Dataframe\n",
    "df = pd.DataFrame(data)\n",
    "df.to_csv(\n",
    "    os.path.join('data', 'nome_endereco.csv'),\n",
    "    index=False,\n",
    ")\n",
    "# Results\n",
    "display(df.head())\n"
   ]
  },
  {
   "cell_type": "code",
   "execution_count": null,
   "metadata": {
    "pycharm": {
     "name": "#%%\n"
    }
   },
   "outputs": [],
   "source": [
    "# Read Dataframe\n",
    "df = pd.read_csv(os.path.join('data', 'nome_endereco.csv'))\n",
    "\n",
    "def first_name(name):\n",
    "    return (name.split(' ')[0]).title()\n",
    "\n",
    "def last_name(name):\n",
    "    return (name.split(' ')[-1]).title()\n",
    "\n",
    "def username(first_name, last_name):\n",
    "    return '{}{}'.format(first_name.lower(), last_name.lower())\n",
    "\n",
    "df['first_name'] = df.apply(lambda x: first_name(x['name']), axis=1)\n",
    "df['last_name'] = df.apply(lambda x: last_name(x['name']), axis=1)\n",
    "df['username'] = df.apply(lambda x: username(x['first_name'], x['last_name']), axis=1)\n",
    "\n",
    "df = df.drop_duplicates(subset='username')\n",
    "\n",
    "display(df.head())\n",
    "print(len(df))"
   ]
  },
  {
   "cell_type": "code",
   "execution_count": null,
   "metadata": {
    "pycharm": {
     "name": "#%%\n"
    }
   },
   "outputs": [],
   "source": [
    "# Variables\n",
    "list_courses = [1, 2, 3, 4, 5, 6, 7, 8, 9]\n",
    "list_session = [1, 2, 3]\n",
    "\n",
    "# Parameters\n",
    "i = 1\n",
    "pk = 10\n",
    "data = []\n",
    "\n",
    "# Loop\n",
    "for index, row in df.iterrows():\n",
    "    # Set Variables\n",
    "    name = row['name']\n",
    "    address = row['address']\n",
    "\n",
    "    # dddd\n",
    "    first_name = (name.split(' ')[0]).title()\n",
    "    last_name = (name.split(' ')[-1]).title()\n",
    "    username = '{}{}'.format(first_name.lower(), last_name.lower())\n",
    "    sexo = classify_name(name)\n",
    "    course_id = random.choice(list_courses)\n",
    "    session_year_id = random.choice(list_session)\n",
    "    if sexo == 'Masculino':\n",
    "        pic = \"/media/menino.jpg\"\n",
    "    elif sexo == 'Feminino':\n",
    "        pic = \"/media/menina.jpg\"\n",
    "    else:\n",
    "        print('deu ruim!')\n",
    "\n",
    "    # Parte 1\n",
    "    item_1 = {\n",
    "        \"model\": \"core.customuser\",\n",
    "        \"pk\": pk,\n",
    "        \"fields\": {\n",
    "            \"password\": \"pbkdf2_sha256$260000$Tkf0RF5rJ2MsCoaOBNGl8x$HX1MdI6HNFymYFr+MmISOLkzpmeDUlU5xTLeduRL+z8=\",\n",
    "            \"last_login\": None,\n",
    "            \"is_superuser\": False,\n",
    "            \"username\": username,\n",
    "            \"first_name\": first_name,\n",
    "            \"last_name\": last_name,\n",
    "            \"email\": \"{}@gmail.com\".format(username),\n",
    "            \"is_staff\": False,\n",
    "            \"is_active\": True,\n",
    "            \"user_type\": \"3\",\n",
    "            \"groups\": [],\n",
    "            \"user_permissions\": []\n",
    "        }\n",
    "    }\n",
    "    item_2 = {\n",
    "        \"model\": \"core.students\",\n",
    "        \"pk\": i,\n",
    "        \"fields\": {\n",
    "            \"admin\": pk,\n",
    "            \"gender\": sexo,\n",
    "            \"profile_pic\": pic,\n",
    "            \"address\": address,\n",
    "            \"course_id\": course_id,\n",
    "            \"session_year_id\": session_year_id\n",
    "        }\n",
    "    }\n",
    "    data.append(item_1)\n",
    "    data.append(item_2)\n",
    "    i += 1\n",
    "    pk += 1\n",
    "\n",
    "print(json.dumps(data, indent=2))"
   ]
  },
  {
   "cell_type": "markdown",
   "metadata": {
    "pycharm": {
     "name": "#%% md\n"
    }
   },
   "source": [
    "## Save Results"
   ]
  },
  {
   "cell_type": "code",
   "execution_count": null,
   "metadata": {
    "pycharm": {
     "name": "#%%\n"
    }
   },
   "outputs": [],
   "source": [
    "with open(os.path.join('data', 'students.json'), 'w') as outfile:\n",
    "    json.dump(data, outfile)"
   ]
  },
  {
   "cell_type": "code",
   "execution_count": null,
   "metadata": {
    "pycharm": {
     "name": "#%%\n"
    }
   },
   "outputs": [],
   "source": []
  }
 ],
 "metadata": {
  "interpreter": {
   "hash": "d4181b5ba52a8e4a66a816197e9f0b08db8a6f69ae1df649a595f0f30665110e"
  },
  "kernelspec": {
   "display_name": "Python 3.8.11 64-bit ('pablocarreira-py38': conda)",
   "name": "python3"
  },
  "language_info": {
   "codemirror_mode": {
    "name": "ipython",
    "version": 3
   },
   "file_extension": ".py",
   "mimetype": "text/x-python",
   "name": "python",
   "nbconvert_exporter": "python",
   "pygments_lexer": "ipython3",
   "version": "3.8.11"
  }
 },
 "nbformat": 4,
 "nbformat_minor": 2
}
