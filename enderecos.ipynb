{
 "cells": [
  {
   "cell_type": "markdown",
   "id": "003bdb10",
   "metadata": {},
   "source": [
    "<br>\n",
    "\n",
    "# Endereços Aleatórios"
   ]
  },
  {
   "cell_type": "code",
   "execution_count": null,
   "id": "802c5176",
   "metadata": {},
   "outputs": [],
   "source": [
    "import os\n",
    "import random\n",
    "import requests\n",
    "\n",
    "from random import randrange"
   ]
  },
  {
   "cell_type": "markdown",
   "id": "73b04e60",
   "metadata": {},
   "source": [
    "<br>\n",
    "\n",
    "## PyCEP\n",
    "\n",
    "O projeto [PyCEP](https://pypi.org/project/pycep-correios/) possibilita pesquisar CEPs e retornar o lougradouro que representa aquele CEP.\n",
    "Projeto bastante difundido na internet, porém ainda não possibilita o que eu busco no momento: **pegar faixas de CEP de uma cidade específica**."
   ]
  },
  {
   "cell_type": "code",
   "execution_count": null,
   "id": "f9353ab8",
   "metadata": {},
   "outputs": [],
   "source": [
    "#!pip install pycep-correios"
   ]
  },
  {
   "cell_type": "code",
   "execution_count": null,
   "id": "03c17ad9",
   "metadata": {},
   "outputs": [],
   "source": [
    "from pycep_correios import get_address_from_cep, WebService"
   ]
  },
  {
   "cell_type": "code",
   "execution_count": null,
   "id": "0f44b6b5",
   "metadata": {},
   "outputs": [],
   "source": [
    "cep = '13416-398'\n",
    "\n",
    "get_address_from_cep(cep, webservice=WebService.APICEP)"
   ]
  },
  {
   "cell_type": "code",
   "execution_count": null,
   "id": "be358694",
   "metadata": {},
   "outputs": [],
   "source": [
    "get_address_from_cep(cep, webservice=WebService.VIACEP)"
   ]
  },
  {
   "cell_type": "code",
   "execution_count": null,
   "id": "37ca4b60",
   "metadata": {},
   "outputs": [],
   "source": [
    "get_address_from_cep(cep, webservice=WebService.CORREIOS)"
   ]
  },
  {
   "cell_type": "markdown",
   "id": "42aa760d",
   "metadata": {},
   "source": [
    "<br>\n",
    "\n",
    "## ViaCEP\n",
    "\n",
    "O PyCEP, mencionado acima, utiliza a API do [ViaCEP](https://viacep.com.br/) que apresenta diversas funcionalidades a serem pesquisadas (a dos DDD me interessou bastante!).\n",
    "\n",
    "Há uma ferramenta que achei interessante e \"quase\" me atende integralmente: trata-se da **Pesquisa de CEP**. Nela é possível inserir:\n",
    "1. Estado\n",
    "2. Município\n",
    "3. Algum termo para \"limitar\" a pesquisa, sendo esse o ponto que não queria."
   ]
  },
  {
   "cell_type": "code",
   "execution_count": null,
   "id": "5975f484",
   "metadata": {},
   "outputs": [],
   "source": [
    "'https://viacep.com.br/ws/sp/santos/senhora/json/'"
   ]
  },
  {
   "cell_type": "markdown",
   "id": "d808355d",
   "metadata": {},
   "source": [
    "<br>\n",
    "\n",
    "## Correios: faixa de CEP\n",
    "\n",
    "https://buscacepinter.correios.com.br/app/faixa_cep_uf_localidade/index.php"
   ]
  },
  {
   "cell_type": "markdown",
   "id": "9ce9f8be",
   "metadata": {},
   "source": [
    "<br>\n",
    "\n",
    "# Gerando Endereços Aleatórios"
   ]
  },
  {
   "cell_type": "code",
   "execution_count": null,
   "id": "c63cc82d",
   "metadata": {},
   "outputs": [],
   "source": [
    "def gera_random_url(estado='sp', municipio='piracicaba'):\n",
    "    termo = [\n",
    "        # Padrão\n",
    "        'rua', 'avenida', 'jardim', 'praça', 'bosque', \n",
    "\n",
    "        # Meses\n",
    "        'janeiro', 'fevereiro', 'março', 'abril', 'maio', 'junho', 'julho', 'agosto', 'setembro', 'outubro', 'novembro', 'dezembro',\n",
    "\n",
    "        # Patentes\n",
    "        'marechal', 'sargento', 'duque', 'soldado', 'capitão', 'major',\n",
    "\n",
    "        # Pronomes de Tratamento\n",
    "        'dom', 'senhor', 'senhora',\n",
    "\n",
    "        # Nomes\n",
    "        'almeia', 'caetano', 'pedro', 'barbosa', 'rui', 'pinto', 'joão', 'são',\n",
    "        ]\n",
    "\n",
    "    url = 'https://viacep.com.br/ws/{}/{}/{}/json/'.format(estado, municipio, random.choice(termo))    \n",
    "    return url"
   ]
  },
  {
   "cell_type": "code",
   "execution_count": null,
   "id": "dd0f99ae",
   "metadata": {},
   "outputs": [],
   "source": [
    "#gera_random_url(estado='sp', municipio='santos')"
   ]
  },
  {
   "cell_type": "code",
   "execution_count": null,
   "id": "cc03c9ed",
   "metadata": {},
   "outputs": [],
   "source": [
    "def get_list_cep_bairros(estado='sp', municipio='santos', loop=20):\n",
    "    i = 1\n",
    "    list_ceps = []\n",
    "    list_bairros = []\n",
    "    while i<=loop:\n",
    "        url = gera_random_url(estado=estado, municipio=municipio)\n",
    "        resp = requests.get(url)\n",
    "        json = resp.json()\n",
    "        for data in json:\n",
    "            list_ceps.append(data['cep'])\n",
    "            list_bairros.append(data['bairro'])\n",
    "        i+=1\n",
    "\n",
    "    # CEPs\n",
    "    list_ceps = list(set(list_ceps))\n",
    "    list_ceps.sort()\n",
    "\n",
    "    # Bairros\n",
    "    list_bairros = list(set(list_bairros))\n",
    "    list_bairros.sort()\n",
    "    \n",
    "    print(\n",
    "        'Município: {}-{}\\nCEPs distintos: {}\\nBairros distintos: {}'.format(\n",
    "            municipio.title(), estado.upper(),\n",
    "            len(list_ceps),\n",
    "            len(list_bairros)\n",
    "        )\n",
    "    )\n",
    "    return list_ceps, list_bairros"
   ]
  },
  {
   "cell_type": "code",
   "execution_count": null,
   "id": "83e24350",
   "metadata": {},
   "outputs": [],
   "source": [
    "list_ceps, list_bairros = get_list_cep_bairros(estado='sp', municipio='piracicaba')"
   ]
  },
  {
   "cell_type": "code",
   "execution_count": null,
   "id": "f1cbfeb5",
   "metadata": {},
   "outputs": [],
   "source": [
    "for cep in list_ceps[1:3]:\n",
    "    # Pega o Endereço Completo via API\n",
    "    end = get_address_from_cep(cep, webservice=WebService.VIACEP)\n",
    "    \n",
    "    # Adiciona um número aleatório\n",
    "    end['complemento'] = '{}'.format(randrange(1, 999))\n",
    "    \n",
    "    # Cria uma chave no dict com Endereço Completo\n",
    "    end['endereco_completo'] = '{}, {} - {} - {}, {} - CEP: {}'.format(\n",
    "        end['logradouro'],\n",
    "        end['complemento'],\n",
    "        end['bairro'],\n",
    "        end['cidade'],\n",
    "        end['uf'],\n",
    "        end['cep'],\n",
    "    )\n",
    "    print(end)"
   ]
  },
  {
   "cell_type": "code",
   "execution_count": null,
   "id": "ae4da88c-bde1-46ad-b137-0882896d5fc1",
   "metadata": {},
   "outputs": [],
   "source": []
  }
 ],
 "metadata": {
  "interpreter": {
   "hash": "d4181b5ba52a8e4a66a816197e9f0b08db8a6f69ae1df649a595f0f30665110e"
  },
  "kernelspec": {
   "display_name": "Python [conda env:pablocarreira-py38] *",
   "language": "python",
   "name": "conda-env-pablocarreira-py38-py"
  },
  "language_info": {
   "codemirror_mode": {
    "name": "ipython",
    "version": 3
   },
   "file_extension": ".py",
   "mimetype": "text/x-python",
   "name": "python",
   "nbconvert_exporter": "python",
   "pygments_lexer": "ipython3",
   "version": "3.8.11"
  }
 },
 "nbformat": 4,
 "nbformat_minor": 5
}
